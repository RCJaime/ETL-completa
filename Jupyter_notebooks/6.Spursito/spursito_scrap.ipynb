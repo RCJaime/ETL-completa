{
 "cells": [
  {
   "cell_type": "code",
   "execution_count": 1,
   "id": "32b7c14a-76e4-407b-be71-77b36e668325",
   "metadata": {},
   "outputs": [
    {
     "name": "stderr",
     "output_type": "stream",
     "text": [
      "C:\\Users\\jaime\\AppData\\Local\\Temp\\ipykernel_12180\\27693622.py:10: DeprecationWarning: executable_path has been deprecated, please pass in a Service object\n",
      "  driver = webdriver.Chrome(PATH)\n",
      "C:\\Users\\jaime\\AppData\\Local\\Temp\\ipykernel_12180\\27693622.py:11: DeprecationWarning: executable_path has been deprecated, please pass in a Service object\n",
      "  driver = webdriver.Chrome(PATH)\n"
     ]
    },
    {
     "name": "stdout",
     "output_type": "stream",
     "text": [
      "                fecha duracion  avg_ccv  max_ccv  seguidores  \\\n",
      "0 2023-08-01 19:08:00  2.4 hrs  12647.0  15267.0      1421.0   \n",
      "1 2023-07-30 22:45:00  2.1 hrs  24207.0  32715.0      2210.0   \n",
      "2 2023-07-25 22:16:00  1.0 hrs  26862.0  38130.0       850.0   \n",
      "3 2023-07-23 18:24:00  3.3 hrs   9933.0  13150.0      1509.0   \n",
      "4 2023-07-16 18:00:00  1.1 hrs  44094.0  49143.0      1215.0   \n",
      "\n",
      "                                              titulo  \n",
      "0  kings_league_🏆_especial_renovaciones_y_fichaje...  \n",
      "1  kings_league_🏆_los_descartes_❌_y_los_que_sigue...  \n",
      "2  queens_league_🏆_cuartos_de_final_☎️_rayo_de_ba...  \n",
      "3  kings_league_🏆_finales_y_debate_☎️_prince_cup_...  \n",
      "4  rayo_de_barcelona_vs_porcinos_⚡_kings_leaguee_...  \n",
      "<class 'pandas.core.frame.DataFrame'>\n",
      "RangeIndex: 300 entries, 0 to 299\n",
      "Data columns (total 6 columns):\n",
      " #   Column      Non-Null Count  Dtype         \n",
      "---  ------      --------------  -----         \n",
      " 0   fecha       300 non-null    datetime64[ns]\n",
      " 1   duracion    300 non-null    object        \n",
      " 2   avg_ccv     300 non-null    float64       \n",
      " 3   max_ccv     300 non-null    float64       \n",
      " 4   seguidores  300 non-null    float64       \n",
      " 5   titulo      300 non-null    object        \n",
      "dtypes: datetime64[ns](1), float64(3), object(2)\n",
      "memory usage: 131.4 KB\n"
     ]
    }
   ],
   "source": [
    "from selenium import webdriver\n",
    "from webdriver_manager.chrome import ChromeDriverManager\n",
    "from selenium.webdriver.support.ui import WebDriverWait\n",
    "from selenium.webdriver.support import expected_conditions as EC\n",
    "from selenium.webdriver.common.by import By\n",
    "from selenium.common.exceptions import NoSuchElementException\n",
    "import pandas as pd\n",
    "from datetime import datetime\n",
    "PATH = ChromeDriverManager().install()\n",
    "driver = webdriver.Chrome(PATH)\n",
    "driver = webdriver.Chrome(PATH) \n",
    "url = 'https://twitchtracker.com/spursito/streams'\n",
    "driver.get(url)\n",
    "columns = ['fecha', 'duracion', 'avg_ccv', 'max_ccv', 'seguidores', 'titulo']\n",
    "data = []\n",
    "\n",
    "max_pages = 15\n",
    "\n",
    "# Recorrer las páginas\n",
    "current_page = 1\n",
    "while current_page <= max_pages:\n",
    "    try:\n",
    "        # Recopilar datos de la tabla\n",
    "        nombre = driver.find_element(By.ID, 'streams')\n",
    "        filas = nombre.find_elements(By.TAG_NAME, \"tr\")\n",
    "\n",
    "        for fila in filas:\n",
    "            # Encontrar las columnas dentro de la fila\n",
    "            columnas = fila.find_elements(By.TAG_NAME, \"td\")\n",
    "\n",
    "            # Extraer datos de las columnas específicas\n",
    "            if len(columnas) > 0:\n",
    "                fecha_str = columnas[0].text\n",
    "                duracion = columnas[1].text.lower()\n",
    "                avg_ccv = float(columnas[2].text.replace(\",\", \"\"))\n",
    "                max_ccv = float(columnas[3].text.replace(\",\", \"\"))\n",
    "                seguidores = float(columnas[4].text.replace(\",\", \"\"))\n",
    "                titulo = columnas[6].text.lower()\n",
    "                fecha = datetime.strptime(fecha_str, \"%d/%b/%Y %H:%M\")\n",
    "                titulo = titulo.replace(\" \", \"_\")\n",
    "\n",
    "\n",
    "                # Agregar los datos a la lista\n",
    "                data.append([fecha, duracion, avg_ccv, max_ccv, seguidores, titulo])\n",
    "\n",
    "        # Pasar a la siguiente página\n",
    "        next_page_button = driver.find_element(By.LINK_TEXT, str(current_page + 1))\n",
    "        next_page_button.click()\n",
    "\n",
    "        # Incrementar el contador de página\n",
    "        current_page += 1\n",
    "\n",
    "    except NoSuchElementException:\n",
    "        break\n",
    "\n",
    "# Crear DataFrame a partir de los datos obtenidos\n",
    "df = pd.DataFrame(data, columns=columns)\n",
    "\n",
    "# Imprimir el DataFrame con todos los datos recopilados\n",
    "print(df.head())\n",
    "    \n",
    "# Cerrar el navegador\n",
    "driver.quit()\n",
    "df.info(memory_usage='deep')\n",
    "df.to_csv('scrap_spursito_csv.csv', index=False)"
   ]
  },
  {
   "cell_type": "code",
   "execution_count": null,
   "id": "86309da8-bd4a-4e68-bbab-9e4f4fece3c8",
   "metadata": {},
   "outputs": [],
   "source": []
  },
  {
   "cell_type": "code",
   "execution_count": null,
   "id": "684fc3ce-2c7f-450f-9aa8-f4d6df1c61be",
   "metadata": {},
   "outputs": [],
   "source": []
  }
 ],
 "metadata": {
  "kernelspec": {
   "display_name": "base",
   "language": "python",
   "name": "base"
  },
  "language_info": {
   "codemirror_mode": {
    "name": "ipython",
    "version": 3
   },
   "file_extension": ".py",
   "mimetype": "text/x-python",
   "name": "python",
   "nbconvert_exporter": "python",
   "pygments_lexer": "ipython3",
   "version": "3.10.9"
  }
 },
 "nbformat": 4,
 "nbformat_minor": 5
}

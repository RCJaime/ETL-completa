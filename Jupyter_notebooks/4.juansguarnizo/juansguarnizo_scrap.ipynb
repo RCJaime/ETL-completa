{
 "cells": [
  {
   "cell_type": "code",
   "execution_count": 1,
   "id": "32b7c14a-76e4-407b-be71-77b36e668325",
   "metadata": {},
   "outputs": [
    {
     "name": "stderr",
     "output_type": "stream",
     "text": [
      "C:\\Users\\jaime\\AppData\\Local\\Temp\\ipykernel_15616\\1502923469.py:10: DeprecationWarning: executable_path has been deprecated, please pass in a Service object\n",
      "  driver = webdriver.Chrome(PATH)\n",
      "C:\\Users\\jaime\\AppData\\Local\\Temp\\ipykernel_15616\\1502923469.py:11: DeprecationWarning: executable_path has been deprecated, please pass in a Service object\n",
      "  driver = webdriver.Chrome(PATH)\n"
     ]
    },
    {
     "name": "stdout",
     "output_type": "stream",
     "text": [
      "                fecha duracion  avg_ccv  max_ccv  seguidores  \\\n",
      "0 2023-08-06 02:00:00  2.9 hrs  11021.0  15651.0      3959.0   \n",
      "1 2023-08-04 20:17:00  4.1 hrs  14391.0  20379.0      2416.0   \n",
      "2 2023-08-03 22:07:00  7.0 hrs  16188.0  38052.0      5836.0   \n",
      "3 2023-08-02 20:00:00  3.4 hrs  20854.0  25174.0      3244.0   \n",
      "4 2023-07-29 16:28:00  1.8 hrs  60962.0  89099.0      3290.0   \n",
      "\n",
      "                                              titulo  \n",
      "0  humillando_a_ari,_rivers_y_el_mariana_/_centra...  \n",
      "1  tengo_a_los_míos_hablando_italiano_de_lunes_a_...  \n",
      "2  caos_caos_caos_/_trailer_\"el_dios_de_todo\"_/_e...  \n",
      "3  pláticamos_+_trailer_\"el_dios_de_todo\"_+_juegu...  \n",
      "4  final_four_/_semifinal_aniquiladores_fc_🆚_el_b...  \n",
      "<class 'pandas.core.frame.DataFrame'>\n",
      "RangeIndex: 300 entries, 0 to 299\n",
      "Data columns (total 6 columns):\n",
      " #   Column      Non-Null Count  Dtype         \n",
      "---  ------      --------------  -----         \n",
      " 0   fecha       300 non-null    datetime64[ns]\n",
      " 1   duracion    300 non-null    object        \n",
      " 2   avg_ccv     300 non-null    float64       \n",
      " 3   max_ccv     300 non-null    float64       \n",
      " 4   seguidores  300 non-null    float64       \n",
      " 5   titulo      300 non-null    object        \n",
      "dtypes: datetime64[ns](1), float64(3), object(2)\n",
      "memory usage: 90.8 KB\n"
     ]
    }
   ],
   "source": [
    "from selenium import webdriver\n",
    "from webdriver_manager.chrome import ChromeDriverManager\n",
    "from selenium.webdriver.support.ui import WebDriverWait\n",
    "from selenium.webdriver.support import expected_conditions as EC\n",
    "from selenium.webdriver.common.by import By\n",
    "from selenium.common.exceptions import NoSuchElementException\n",
    "import pandas as pd\n",
    "from datetime import datetime\n",
    "PATH = ChromeDriverManager().install()\n",
    "driver = webdriver.Chrome(PATH)\n",
    "driver = webdriver.Chrome(PATH) \n",
    "url = 'https://twitchtracker.com/juansguarnizo/streams'\n",
    "driver.get(url)\n",
    "columns = ['fecha', 'duracion', 'avg_ccv', 'max_ccv', 'seguidores', 'titulo']\n",
    "data = []\n",
    "\n",
    "max_pages = 15\n",
    "\n",
    "# Recorrer las páginas\n",
    "current_page = 1\n",
    "while current_page <= max_pages:\n",
    "    try:\n",
    "        # Recopilar datos de la tabla\n",
    "        nombre = driver.find_element(By.ID, 'streams')\n",
    "        filas = nombre.find_elements(By.TAG_NAME, \"tr\")\n",
    "\n",
    "        for fila in filas:\n",
    "            # Encontrar las columnas dentro de la fila\n",
    "            columnas = fila.find_elements(By.TAG_NAME, \"td\")\n",
    "\n",
    "            # Extraer datos de las columnas específicas\n",
    "            if len(columnas) > 0:\n",
    "                fecha_str = columnas[0].text\n",
    "                duracion = columnas[1].text.lower()\n",
    "                avg_ccv = float(columnas[2].text.replace(\",\", \"\"))\n",
    "                max_ccv = float(columnas[3].text.replace(\",\", \"\"))\n",
    "                seguidores = float(columnas[4].text.replace(\",\", \"\"))\n",
    "                titulo = columnas[6].text.lower()\n",
    "                fecha = datetime.strptime(fecha_str, \"%d/%b/%Y %H:%M\")\n",
    "                titulo = titulo.replace(\" \", \"_\")\n",
    "\n",
    "\n",
    "                # Agregar los datos a la lista\n",
    "                data.append([fecha, duracion, avg_ccv, max_ccv, seguidores, titulo])\n",
    "\n",
    "        # Pasar a la siguiente página\n",
    "        next_page_button = driver.find_element(By.LINK_TEXT, str(current_page + 1))\n",
    "        next_page_button.click()\n",
    "\n",
    "        # Incrementar el contador de página\n",
    "        current_page += 1\n",
    "\n",
    "    except NoSuchElementException:\n",
    "        break\n",
    "\n",
    "# Crear DataFrame a partir de los datos obtenidos\n",
    "df = pd.DataFrame(data, columns=columns)\n",
    "\n",
    "# Imprimir el DataFrame con todos los datos recopilados\n",
    "print(df.head())\n",
    "    \n",
    "# Cerrar el navegador\n",
    "driver.quit()\n",
    "df.info(memory_usage='deep')\n",
    "df.to_csv('scrap_juansguarnizo_csv.csv', index=False)"
   ]
  },
  {
   "cell_type": "code",
   "execution_count": null,
   "id": "86309da8-bd4a-4e68-bbab-9e4f4fece3c8",
   "metadata": {},
   "outputs": [],
   "source": []
  },
  {
   "cell_type": "code",
   "execution_count": null,
   "id": "684fc3ce-2c7f-450f-9aa8-f4d6df1c61be",
   "metadata": {},
   "outputs": [],
   "source": []
  }
 ],
 "metadata": {
  "kernelspec": {
   "display_name": "base",
   "language": "python",
   "name": "base"
  },
  "language_info": {
   "codemirror_mode": {
    "name": "ipython",
    "version": 3
   },
   "file_extension": ".py",
   "mimetype": "text/x-python",
   "name": "python",
   "nbconvert_exporter": "python",
   "pygments_lexer": "ipython3",
   "version": "3.10.9"
  }
 },
 "nbformat": 4,
 "nbformat_minor": 5
}

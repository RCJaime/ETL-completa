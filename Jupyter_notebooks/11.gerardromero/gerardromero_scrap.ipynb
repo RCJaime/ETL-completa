{
 "cells": [
  {
   "cell_type": "code",
   "execution_count": 1,
   "id": "32b7c14a-76e4-407b-be71-77b36e668325",
   "metadata": {},
   "outputs": [
    {
     "name": "stderr",
     "output_type": "stream",
     "text": [
      "C:\\Users\\jaime\\AppData\\Local\\Temp\\ipykernel_12980\\1041660669.py:10: DeprecationWarning: executable_path has been deprecated, please pass in a Service object\n",
      "  driver = webdriver.Chrome(PATH)\n",
      "C:\\Users\\jaime\\AppData\\Local\\Temp\\ipykernel_12980\\1041660669.py:11: DeprecationWarning: executable_path has been deprecated, please pass in a Service object\n",
      "  driver = webdriver.Chrome(PATH)\n"
     ]
    },
    {
     "name": "stdout",
     "output_type": "stream",
     "text": [
      "                fecha duracion  avg_ccv  max_ccv  seguidores  \\\n",
      "0 2023-08-07 11:55:00  0.2 hrs    624.0    624.0         0.0   \n",
      "1 2023-08-06 22:01:00  3.2 hrs  20021.0  30140.0       809.0   \n",
      "2 2023-08-05 11:56:00  2.5 hrs  10420.0  12633.0       192.0   \n",
      "3 2023-08-04 11:56:00  3.8 hrs  12528.0  16590.0       395.0   \n",
      "4 2023-08-03 11:55:00  3.8 hrs  13170.0  16224.0       334.0   \n",
      "\n",
      "                                              titulo  \n",
      "0  jijantes_fc_|actualidad_barça._carpeta_neymar....  \n",
      "1  jijantes_fc_|_mercato_fcb._dembelé,_kessie,_an...  \n",
      "2  jijantes_fc_|_actualidad_barça._mercato_del_fc...  \n",
      "3  jijantes_fc_|_actualidad_barça._las_salidas_li...  \n",
      "4  jijantes_fc_|_actualidad_barça._cumbre_deporti...  \n",
      "<class 'pandas.core.frame.DataFrame'>\n",
      "RangeIndex: 300 entries, 0 to 299\n",
      "Data columns (total 6 columns):\n",
      " #   Column      Non-Null Count  Dtype         \n",
      "---  ------      --------------  -----         \n",
      " 0   fecha       300 non-null    datetime64[ns]\n",
      " 1   duracion    300 non-null    object        \n",
      " 2   avg_ccv     300 non-null    float64       \n",
      " 3   max_ccv     300 non-null    float64       \n",
      " 4   seguidores  300 non-null    float64       \n",
      " 5   titulo      300 non-null    object        \n",
      "dtypes: datetime64[ns](1), float64(3), object(2)\n",
      "memory usage: 77.3 KB\n"
     ]
    }
   ],
   "source": [
    "from selenium import webdriver\n",
    "from webdriver_manager.chrome import ChromeDriverManager\n",
    "from selenium.webdriver.support.ui import WebDriverWait\n",
    "from selenium.webdriver.support import expected_conditions as EC\n",
    "from selenium.webdriver.common.by import By\n",
    "from selenium.common.exceptions import NoSuchElementException\n",
    "import pandas as pd\n",
    "from datetime import datetime\n",
    "PATH = ChromeDriverManager().install()\n",
    "driver = webdriver.Chrome(PATH)\n",
    "driver = webdriver.Chrome(PATH) \n",
    "url = 'https://twitchtracker.com/gerardromero/streams'\n",
    "driver.get(url)\n",
    "columns = ['fecha', 'duracion', 'avg_ccv', 'max_ccv', 'seguidores', 'titulo']\n",
    "data = []\n",
    "\n",
    "max_pages = 15\n",
    "\n",
    "# Recorrer las páginas\n",
    "current_page = 1\n",
    "while current_page <= max_pages:\n",
    "    try:\n",
    "        # Recopilar datos de la tabla\n",
    "        nombre = driver.find_element(By.ID, 'streams')\n",
    "        filas = nombre.find_elements(By.TAG_NAME, \"tr\")\n",
    "\n",
    "        for fila in filas:\n",
    "            # Encontrar las columnas dentro de la fila\n",
    "            columnas = fila.find_elements(By.TAG_NAME, \"td\")\n",
    "\n",
    "            # Extraer datos de las columnas específicas\n",
    "            if len(columnas) > 0:\n",
    "                fecha_str = columnas[0].text\n",
    "                duracion = columnas[1].text.lower()\n",
    "                avg_ccv = float(columnas[2].text.replace(\",\", \"\"))\n",
    "                max_ccv = float(columnas[3].text.replace(\",\", \"\"))\n",
    "                seguidores = float(columnas[4].text.replace(\",\", \"\"))\n",
    "                titulo = columnas[6].text.lower()\n",
    "                fecha = datetime.strptime(fecha_str, \"%d/%b/%Y %H:%M\")\n",
    "                titulo = titulo.replace(\" \", \"_\")\n",
    "\n",
    "\n",
    "                # Agregar los datos a la lista\n",
    "                data.append([fecha, duracion, avg_ccv, max_ccv, seguidores, titulo])\n",
    "\n",
    "        # Pasar a la siguiente página\n",
    "        next_page_button = driver.find_element(By.LINK_TEXT, str(current_page + 1))\n",
    "        next_page_button.click()\n",
    "\n",
    "        # Incrementar el contador de página\n",
    "        current_page += 1\n",
    "\n",
    "    except NoSuchElementException:\n",
    "        break\n",
    "\n",
    "# Crear DataFrame a partir de los datos obtenidos\n",
    "df = pd.DataFrame(data, columns=columns)\n",
    "\n",
    "# Imprimir el DataFrame con todos los datos recopilados\n",
    "print(df.head())\n",
    "    \n",
    "# Cerrar el navegador\n",
    "driver.quit()\n",
    "df.info(memory_usage='deep')\n",
    "df.to_csv('scrap_gerardromero_csv.csv', index=False)"
   ]
  },
  {
   "cell_type": "code",
   "execution_count": null,
   "id": "86309da8-bd4a-4e68-bbab-9e4f4fece3c8",
   "metadata": {},
   "outputs": [],
   "source": []
  },
  {
   "cell_type": "code",
   "execution_count": null,
   "id": "684fc3ce-2c7f-450f-9aa8-f4d6df1c61be",
   "metadata": {},
   "outputs": [],
   "source": []
  }
 ],
 "metadata": {
  "kernelspec": {
   "display_name": "base",
   "language": "python",
   "name": "base"
  },
  "language_info": {
   "codemirror_mode": {
    "name": "ipython",
    "version": 3
   },
   "file_extension": ".py",
   "mimetype": "text/x-python",
   "name": "python",
   "nbconvert_exporter": "python",
   "pygments_lexer": "ipython3",
   "version": "3.10.9"
  }
 },
 "nbformat": 4,
 "nbformat_minor": 5
}
